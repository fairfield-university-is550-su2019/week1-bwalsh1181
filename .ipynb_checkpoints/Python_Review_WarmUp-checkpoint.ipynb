{
 "cells": [
  {
   "cell_type": "markdown",
   "metadata": {},
   "source": [
    "#Python Review/WarmUp\n",
    "\n",
    "All of you are supposed to be comfortable using Python - that is the requirement for being in this class. Please try to work out the following questions to test/review your Python skills.\n",
    "\n",
    "Note that the difficulty level increases with the questions."
   ]
  },
  {
   "cell_type": "markdown",
   "metadata": {},
   "source": [
    "## Q0: Zen of Python\n",
    "\n",
    "You should read this embedded manifesto closely - and use it to guide your coding at all times. "
   ]
  },
  {
   "cell_type": "code",
   "execution_count": 1,
   "metadata": {
    "collapsed": false
   },
   "outputs": [
    {
     "name": "stdout",
     "output_type": "stream",
     "text": [
      "The Zen of Python, by Tim Peters\n",
      "\n",
      "Beautiful is better than ugly.\n",
      "Explicit is better than implicit.\n",
      "Simple is better than complex.\n",
      "Complex is better than complicated.\n",
      "Flat is better than nested.\n",
      "Sparse is better than dense.\n",
      "Readability counts.\n",
      "Special cases aren't special enough to break the rules.\n",
      "Although practicality beats purity.\n",
      "Errors should never pass silently.\n",
      "Unless explicitly silenced.\n",
      "In the face of ambiguity, refuse the temptation to guess.\n",
      "There should be one-- and preferably only one --obvious way to do it.\n",
      "Although that way may not be obvious at first unless you're Dutch.\n",
      "Now is better than never.\n",
      "Although never is often better than *right* now.\n",
      "If the implementation is hard to explain, it's a bad idea.\n",
      "If the implementation is easy to explain, it may be a good idea.\n",
      "Namespaces are one honking great idea -- let's do more of those!\n"
     ]
    }
   ],
   "source": [
    "import this"
   ]
  },
  {
   "cell_type": "markdown",
   "metadata": {},
   "source": [
    "## Q1: Simple Histogram\n",
    "\n",
    "In this question, you are asked to create your own **histogram()** function. The function reads a list of *random* numbers as input, and print out the histogram using pound signs(#) as histogram.\n",
    "\n",
    "For instance, if the input list i_lst = [1, 7, 4], the print out should be:\n",
    "\n",
    "1:#\n",
    "\n",
    "7:#######\n",
    "\n",
    "4:####\n",
    "\n",
    "**NOTE**: You should print out the numbers, colon, and pond signs all together."
   ]
  },
  {
   "cell_type": "code",
   "execution_count": 31,
   "metadata": {
    "collapsed": false
   },
   "outputs": [
    {
     "name": "stdout",
     "output_type": "stream",
     "text": [
      "8:########\n",
      "2:##\n",
      "8:########\n",
      "1:#\n",
      "8:########\n",
      "4:####\n",
      "6:######\n",
      "3:###\n",
      "3:###\n",
      "3:###\n"
     ]
    }
   ],
   "source": [
    "## You should import random package\n",
    "import random\n",
    "\n",
    "## use random packge to generate 10 integers (!!!) - to simplify things please generate number between [1, 10]\n",
    "## random.randrange() function would be helpful here\n",
    "#### Your code here\n",
    "\n",
    "lst = [random.randrange(1,10) for x in range(0,10)]\n",
    "\n",
    "## You can create a function here - OPTIONAL\n",
    "\n",
    "def histogram(lst):\n",
    "    for i in lst:\n",
    "        print(str(i) + ':' + '#'*i)\n",
    "\n",
    "\n",
    "## print the results here:\n",
    "## You need to generate your random number list yourself \n",
    "\n",
    "#### your code here\n",
    "histogram(lst)"
   ]
  },
  {
   "cell_type": "markdown",
   "metadata": {},
   "source": [
    "## Q2: ROT-13 Decipher"
   ]
  },
  {
   "cell_type": "markdown",
   "metadata": {},
   "source": [
    "In cryptography, a *Caesar* cipher is a very simple encryption techniques in which each letter in the plain text is replaced by a letter some fixed number of positions down the alphabet. \n",
    "\n",
    "For example, with a shift of **3**:\n",
    "- A would be replaced by D, \n",
    "- B would become E, and so on. \n",
    "\n",
    "The method is named after Julius Caesar, who used it to communicate with his generals. \n",
    "\n",
    "**ROT-13** (\"rotate by 13 places\") is a widely used example of a Caesar cipher where the shift is 13. In Python, the key for ROT-13 may be represented by means of the following dictionary:"
   ]
  },
  {
   "cell_type": "raw",
   "metadata": {},
   "source": [
    "key = {'a':'n', 'b':'o', 'c':'p', 'd':'q', 'e':'r', 'f':'s', 'g':'t', 'h':'u', \n",
    "       'i':'v', 'j':'w', 'k':'x', 'l':'y', 'm':'z', 'n':'a', 'o':'b', 'p':'c', \n",
    "       'q':'d', 'r':'e', 's':'f', 't':'g', 'u':'h', 'v':'i', 'w':'j', 'x':'k',\n",
    "       'y':'l', 'z':'m', 'A':'N', 'B':'O', 'C':'P', 'D':'Q', 'E':'R', 'F':'S', \n",
    "       'G':'T', 'H':'U', 'I':'V', 'J':'W', 'K':'X', 'L':'Y', 'M':'Z', 'N':'A', \n",
    "       'O':'B', 'P':'C', 'Q':'D', 'R':'E', 'S':'F', 'T':'G', 'U':'H', 'V':'I', \n",
    "       'W':'J', 'X':'K', 'Y':'L', 'Z':'M'}"
   ]
  },
  {
   "cell_type": "markdown",
   "metadata": {},
   "source": [
    "Your task in this exercise is to implement an encoder/decoder of ROT-13. Once you're done, you will be able to \n",
    "\n",
    "1. Encode the following message: BRAVO! I have created a secret ROT decipher in June 2018!\n",
    "    \n",
    "2. Decode the following secret message: V nqzver lbh, TERNG CLGUBA Znfgre!!! Ubj qvq lbh ohvyq guvf qrpbqre?"
   ]
  },
  {
   "cell_type": "code",
   "execution_count": 115,
   "metadata": {
    "collapsed": true
   },
   "outputs": [
    {
     "name": "stdout",
     "output_type": "stream",
     "text": [
      "BRAVO!\n",
      "I\n",
      "have\n",
      "created\n",
      "a\n",
      "secret\n",
      "ROT\n",
      "decipher\n",
      "in\n",
      "June\n",
      "2018!\n"
     ]
    }
   ],
   "source": [
    "## define the dictionary\n",
    "key = {'a':'n', 'b':'o', 'c':'p', 'd':'q', 'e':'r', 'f':'s', 'g':'t', 'h':'u', \n",
    "       'i':'v', 'j':'w', 'k':'x', 'l':'y', 'm':'z', 'n':'a', 'o':'b', 'p':'c', \n",
    "       'q':'d', 'r':'e', 's':'f', 't':'g', 'u':'h', 'v':'i', 'w':'j', 'x':'k',\n",
    "       'y':'l', 'z':'m', 'A':'N', 'B':'O', 'C':'P', 'D':'Q', 'E':'R', 'F':'S', \n",
    "       'G':'T', 'H':'U', 'I':'V', 'J':'W', 'K':'X', 'L':'Y', 'M':'Z', 'N':'A', \n",
    "       'O':'B', 'P':'C', 'Q':'D', 'R':'E', 'S':'F', 'T':'G', 'U':'H', 'V':'I', \n",
    "       'W':'J', 'X':'K', 'Y':'L', 'Z':'M', '!':'!', '2':'2', '0':'0', '8':'8', '1':'1', '?':'?', ',':','}\n",
    "#### your code here\n",
    "word1 = 'BRAVO! I have created a secret ROT decipher in June 2018!'\n",
    "word_list = word1.split()\n",
    "encoded = ''\n",
    "## you can define two functions (encode() and decode()), or just call them in line\n",
    "## you will need to use string.split() function to slice strings into list of letters\n",
    "## so that you can encode/decode them\n",
    "## you will have to use a for loop\n",
    "## HINT 1: stripping the white spaces with string.strip() helps\n",
    "\n",
    "## Define your decoder function here\n",
    "#### your code here\n",
    "for x in word_list:\n",
    "    print(x)\n",
    "    for y in x:\n",
    "        encoded = encoded +key[y]\n",
    "#encoded"
   ]
  },
  {
   "cell_type": "code",
   "execution_count": 116,
   "metadata": {
    "collapsed": false
   },
   "outputs": [],
   "source": [
    "## Define your encoder function here\n",
    "#### your code here\n"
   ]
  },
  {
   "cell_type": "code",
   "execution_count": null,
   "metadata": {
    "collapsed": false
   },
   "outputs": [],
   "source": []
  },
  {
   "cell_type": "code",
   "execution_count": 117,
   "metadata": {},
   "outputs": [
    {
     "name": "stdout",
     "output_type": "stream",
     "text": [
      "V\n",
      "nqzver\n",
      "lbh,\n",
      "TERNG\n",
      "CLGUBA\n",
      "Znfgre!!!\n",
      "Ubj\n",
      "qvq\n",
      "lbh\n",
      "ohvyq\n",
      "guvf\n",
      "qrpbqre?\n"
     ]
    },
    {
     "data": {
      "text/plain": [
       "'Iadmireyou,GREATPYTHONMaster!!!Howdidyoubuildthisdecoder?'"
      ]
     },
     "execution_count": 117,
     "metadata": {},
     "output_type": "execute_result"
    }
   ],
   "source": [
    "word2 = 'V nqzver lbh, TERNG CLGUBA Znfgre!!! Ubj qvq lbh ohvyq guvf qrpbqre?'\n",
    "decoded = ''\n",
    "\n",
    "word_list2 = word2.split()\n",
    "for x in word_list2:\n",
    "    print(x)\n",
    "    for y in x:\n",
    "        decoded = decoded +key[y]\n",
    "decoded"
   ]
  },
  {
   "cell_type": "markdown",
   "metadata": {},
   "source": [
    "## Q3. SUM OF SQUARED or SQUARED SUM?\n",
    "\n",
    "Write a Python program to calculate difference between squared sum of first n natural numbers and sum of squared first n natural numbers.(default value of number=2).\n",
    "\n",
    "EXAMPLE: sum_difference(12) = 5,434"
   ]
  },
  {
   "cell_type": "code",
   "execution_count": null,
   "metadata": {
    "collapsed": false
   },
   "outputs": [],
   "source": [
    "## sum_of_squares = n**2 + (n-1)**2 + ... 1**2\n",
    "## squared_sum = [n+(n-1)+...1]**2\n",
    "## sum_difference = sum_of_squares - squared_sum\n",
    "## n is an integer defined by you\n",
    "\n",
    "#def sum_difference(n=2):\n",
    "    ## Complete your function here\n",
    "\n",
    "## list results here\n",
    "\n"
   ]
  },
  {
   "cell_type": "code",
   "execution_count": null,
   "metadata": {
    "collapsed": false
   },
   "outputs": [],
   "source": [
    "#### ANSWER this question using your code: what is the value of n when sum of squaredis greater than squared sum?\n"
   ]
  },
  {
   "cell_type": "markdown",
   "metadata": {},
   "source": [
    "## Q4. Closed Brackets Detector\n",
    "\n",
    "You have noticed that IPython can help you detect unclosed parentheses, for instance:\n",
    "    list(str(type(x for x in range(l))) \n",
    "will give you an error.\n",
    "\n",
    "In this question, you are going to replicate a simpler example of it.\n",
    "\n",
    "Your task in this exercise is as follows:\n",
    "\n",
    "1. Generate a string with N opening brackets (\"[\") and N closing brackets (\"]\"), in some arbitrary order.\n",
    "2. Determine whether the generated string is balanced; that is, whether it consists entirely of pairs of opening/closing brackets (in that order), none of which mis-nest.\n",
    "\n",
    "Requirements:\n",
    "* Your test sequence of brackets need to be (2,20) digits long.\n",
    "* You need to generate at least 8 sequences \n",
    "\n",
    "Expected Output:"
   ]
  },
  {
   "cell_type": "raw",
   "metadata": {},
   "source": [
    "Examples:\n",
    "   []        OK   ][        NOT OK\n",
    "   [][]      OK   ][][      NOT OK\n",
    "   [[][]]    OK   []][[]    NOT OK"
   ]
  },
  {
   "cell_type": "code",
   "execution_count": null,
   "metadata": {
    "collapsed": false
   },
   "outputs": [],
   "source": [
    "##YOUR CODE HERE\n",
    "# you will need a function to generate these sequences to be tested\n",
    "\n",
    "# you will call the function to generate at least 8 sequences\n",
    "\n",
    "# you will need another function to detect the sequences one by one\n",
    "\n",
    "# you will call the closed_braces() function here\n",
    "\n",
    "\n",
    "    "
   ]
  },
  {
   "cell_type": "markdown",
   "metadata": {},
   "source": [
    "## Q5: Bubble Sort Algorithm\n",
    "\n",
    "Bubble sort algorithm is the most popular sorting algorithm. Please read this [wiki](https://en.wikipedia.org/wiki/Bubble_sort) regarding the details of Bubble Sort Angorithm.\n",
    "\n",
    "According to Wikipedia \"Bubble sort, sometimes referred to as sinking sort, is a simple sorting algorithm that repeatedly steps through the list to be sorted, compares each pair of adjacent items and swaps them if they are in the wrong order. The pass through the list is repeated until no swaps are needed, which indicates that the list is sorted. The algorithm, which is a comparison sort, is named for the way smaller elements \"bubble\" to the top of the list. Although the algorithm is simple, it is too slow and impractical for most problems even when compared to insertion sort. It can be practical if the input is usually in sort order but may occasionally have some out-of-order elements nearly in position.\"\n",
    "\n",
    "<img src='https://codingcompiler.com/wp-content/uploads/2017/10/bubble-sort-in-c.png'/>\n",
    "\n",
    "Write a Python program to sort a list of elements using the bubble sort algorithm. \n",
    "\n",
    "EXAMPLE: \n",
    "\n",
    "UNSORTED: [5, 3, 2, 1, 4] \n",
    "\n",
    "SORTED: [1, 2, 3, 4, 5]"
   ]
  },
  {
   "cell_type": "code",
   "execution_count": null,
   "metadata": {
    "collapsed": false
   },
   "outputs": [],
   "source": [
    "## you need to generate a 10-item list with random integers between 1 and 30\n",
    "## a little help from me\n",
    "import random\n",
    "origin_lst = random.sample(range(1, 30), 10)\n",
    "print(\"UNSORTED: \", origin_lst)"
   ]
  },
  {
   "cell_type": "code",
   "execution_count": null,
   "metadata": {
    "collapsed": false
   },
   "outputs": [],
   "source": [
    "## now you need to define the BSA function\n",
    "## If you can use recursion in the function calls please DO so!!!\n"
   ]
  },
  {
   "cell_type": "code",
   "execution_count": null,
   "metadata": {
    "collapsed": true
   },
   "outputs": [],
   "source": []
  },
  {
   "cell_type": "code",
   "execution_count": null,
   "metadata": {
    "collapsed": true
   },
   "outputs": [],
   "source": []
  }
 ],
 "metadata": {
  "kernelspec": {
   "display_name": "Python 3",
   "language": "python",
   "name": "python3"
  },
  "language_info": {
   "codemirror_mode": {
    "name": "ipython",
    "version": 3
   },
   "file_extension": ".py",
   "mimetype": "text/x-python",
   "name": "python",
   "nbconvert_exporter": "python",
   "pygments_lexer": "ipython3",
   "version": "3.6.7"
  }
 },
 "nbformat": 4,
 "nbformat_minor": 2
}
